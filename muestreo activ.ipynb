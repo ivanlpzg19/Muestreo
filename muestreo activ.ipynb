{
 "cells": [
  {
   "cell_type": "code",
   "execution_count": 1,
   "id": "d6e72b99-33ad-4c60-b185-e6e4943ba9c1",
   "metadata": {},
   "outputs": [],
   "source": [
    "import numpy as np\n",
    "import pandas as pd\n",
    "import scipy as sp\n",
    "import scipy.stats as stats\n",
    "import matplotlib.pyplot as plt"
   ]
  },
  {
   "cell_type": "markdown",
   "id": "0bd7818e-083d-4d7f-a4cb-1dcbbca87393",
   "metadata": {},
   "source": [
    "## Parte 1"
   ]
  },
  {
   "cell_type": "code",
   "execution_count": 2,
   "id": "82241e40-d97e-4145-a108-ab1eab221b12",
   "metadata": {},
   "outputs": [],
   "source": [
    "binom = stats.binom(25, 0.7)\n",
    "dado=stats.randint(low=1, high=7)\n",
    "exp=stats.expon(10)"
   ]
  },
  {
   "cell_type": "markdown",
   "id": "05decafa-5303-47ff-85e2-232883017231",
   "metadata": {},
   "source": [
    "## Parte 2"
   ]
  },
  {
   "cell_type": "code",
   "execution_count": 3,
   "id": "0ea4aad0-c4ca-486e-a6f5-a000b54f4f1c",
   "metadata": {},
   "outputs": [
    {
     "data": {
      "text/plain": [
       "array([17, 19, 18, 15, 23, 20, 17, 15, 20, 17, 15, 19, 20, 20, 19, 13, 15,\n",
       "       20, 15, 19, 18, 14, 15, 19, 20, 18, 23, 19, 16, 22, 17, 17, 20, 18,\n",
       "       21, 15, 13, 21, 15, 17, 16, 17, 17, 22, 19, 17, 16, 19, 19, 15, 13,\n",
       "       15, 18, 17, 18, 19, 20, 19, 21, 18, 18, 17, 17, 20, 14, 14, 17, 18,\n",
       "       18, 19, 19, 19, 20, 13, 13, 17, 16, 19, 20, 18, 18, 21, 17, 12, 18,\n",
       "       19, 16, 16, 19, 17, 17, 19, 20, 19, 18, 17, 19, 17, 19, 17, 16, 16,\n",
       "       17, 19, 16, 15, 17, 13, 13, 20, 22, 20, 14, 14, 19, 18, 17, 19, 18,\n",
       "       16, 18, 16, 17, 24, 18, 18, 18, 18, 18, 18, 21, 19, 14, 22, 21, 19,\n",
       "       17, 12, 12, 12, 20, 17, 17, 20, 14, 19, 10, 17, 20, 18, 20, 18, 17,\n",
       "       16, 18, 19, 17, 18, 18, 19, 19, 18, 18, 15, 16, 16, 18, 18, 17, 16,\n",
       "       20, 20, 18, 20, 13, 15, 17, 19, 20, 13, 16, 15, 18, 19, 19, 15, 18,\n",
       "       17, 16, 19, 21, 16, 13, 14, 18, 17, 16, 14, 20, 18, 18, 16, 18, 15,\n",
       "       15, 21, 19, 13, 21, 18, 14, 15, 19, 17, 18, 17, 15, 17, 18, 19, 19,\n",
       "       17, 21, 17, 16, 14, 16, 18, 18, 13, 19, 18, 12, 22, 16, 22, 19, 21,\n",
       "       21, 20, 20, 17, 18, 15, 19, 20, 16, 15, 17, 16, 17, 17, 15, 14, 15,\n",
       "       19, 15, 18, 16, 18, 20, 16, 19, 15, 15, 17, 18, 17, 20, 16, 13, 16,\n",
       "       19, 15, 16, 21, 19, 17, 20, 16, 12, 19, 16, 21, 19, 14, 17, 17, 14,\n",
       "       20, 22, 20, 17, 18, 16, 15, 19, 18, 18, 21])"
      ]
     },
     "execution_count": 3,
     "metadata": {},
     "output_type": "execute_result"
    }
   ],
   "source": [
    "np.random.seed(100)\n",
    "binom_sample=binom.rvs(300)\n",
    "binom_sample"
   ]
  },
  {
   "cell_type": "code",
   "execution_count": 4,
   "id": "091570bf-5837-474b-85e7-862ad3f50f22",
   "metadata": {},
   "outputs": [
    {
     "data": {
      "text/plain": [
       "array([1, 1, 4, 1, 3, 5, 3, 6, 3, 3, 3, 2, 1, 1, 5, 4, 5, 3, 1, 4, 2, 6,\n",
       "       3, 4, 5, 5, 2, 6, 6, 4, 5, 5, 4, 4, 4, 2, 2, 6, 4, 1, 3, 2, 2, 4,\n",
       "       3, 6, 4, 1, 2, 1, 6, 5, 3, 1, 1, 3, 6, 3, 2, 1, 6, 3, 2, 6, 5, 3,\n",
       "       1, 4, 4, 4, 6, 1, 6, 2, 5, 3, 4, 4, 5, 3, 5, 4, 2, 1, 5, 4, 5, 6,\n",
       "       3, 3, 5, 3, 6, 5, 2, 3, 3, 1, 3, 3, 4, 6, 5, 3, 5, 4, 6, 2, 1, 1,\n",
       "       6, 2, 6, 3, 5, 3, 4, 4, 2, 3, 4, 1, 2, 6, 6, 2, 6, 4, 1, 5, 3, 6,\n",
       "       5, 4, 5, 5, 3, 1, 2, 1, 5, 6, 3, 6, 5, 5, 6, 2, 1, 2, 1, 5, 3, 1,\n",
       "       6, 4, 3, 3, 4, 6, 5, 2, 4, 2, 5, 1, 1, 6, 3, 5, 3, 3, 3, 2, 3, 2,\n",
       "       6, 3, 3, 6, 1, 3, 6, 4, 5, 6, 3, 2, 3, 6, 2, 6, 2, 3, 5, 3, 4, 6,\n",
       "       5, 5, 2, 4, 1, 3, 6, 3, 6, 2, 2, 3, 6, 5, 1, 4, 4, 5, 3, 6, 1, 6,\n",
       "       1, 1, 6, 2, 4, 3, 4, 2, 1, 6, 3, 1, 1, 2, 2, 6, 3, 4, 4, 2, 6, 5,\n",
       "       6, 4, 3, 2, 5, 5, 2, 6, 5, 4, 5, 4, 6, 6, 3, 5, 4, 3, 6, 1, 3, 1,\n",
       "       1, 2, 6, 6, 5, 6, 1, 1, 4, 1, 6, 2, 5, 4, 5, 3, 6, 1, 2, 5, 1, 4,\n",
       "       3, 2, 2, 3, 5, 5, 4, 4, 3, 4, 5, 3, 5, 5])"
      ]
     },
     "execution_count": 4,
     "metadata": {},
     "output_type": "execute_result"
    }
   ],
   "source": [
    "np.random.seed(100)\n",
    "dado_sample=dado.rvs(300)\n",
    "dado_sample"
   ]
  },
  {
   "cell_type": "code",
   "execution_count": 5,
   "id": "248d0bef-7a39-457c-82c4-7584689ddf6a",
   "metadata": {},
   "outputs": [
    {
     "data": {
      "text/plain": [
       "array([10.78395837, 10.32624188, 10.55254662, 11.8628869 , 10.00473003,\n",
       "       10.12961805, 11.11093516, 11.7478541 , 10.14700066, 10.85588573,\n",
       "       12.21936548, 10.23471287, 10.20496997, 10.11471176, 10.2480736 ,\n",
       "       13.84547641, 11.66962936, 10.18867089, 11.69404173, 10.32030685,\n",
       "       10.56511319, 12.81390783, 11.70182395, 10.40964174, 10.19286954,\n",
       "       10.46654091, 10.00570475, 10.29092245, 11.58798228, 10.01537253,\n",
       "       10.91340335, 10.9258476 , 10.11109659, 10.48117531, 10.03715794,\n",
       "       12.21102342, 13.95915953, 10.06181369, 12.2122504 , 10.86015027,\n",
       "       11.35665668, 10.99474952, 10.87189639, 10.0206509 , 10.23575598,\n",
       "       10.78676552, 11.46583627, 10.28860947, 10.33672624, 11.91321609,\n",
       "       13.68913923, 12.16154825, 10.4455184 , 10.91344216, 10.43818813,\n",
       "       10.41580369, 10.19611342, 10.2714075 , 10.04589974, 10.70406947,\n",
       "       10.47200957, 10.89846408, 10.99409519, 10.15385109, 12.71569887,\n",
       "       12.92583092, 10.92204892, 10.49064117, 10.45128081, 10.22858995,\n",
       "       10.32402116, 10.28307388, 10.19068604, 13.39948968, 13.14684824,\n",
       "       10.91123773, 11.31416257, 10.41609929, 10.09657214, 10.62268502,\n",
       "       10.71069809, 10.09261999, 10.75085092, 14.84826603, 10.50258621,\n",
       "       10.40886555, 11.63706884, 11.40384343, 10.3755177 , 11.00522218,\n",
       "       10.77740869, 10.35210505, 10.11741949, 10.37489754, 10.61060753,\n",
       "       11.07569707, 10.29337494, 11.02471499, 10.22329807, 11.07184808,\n",
       "       11.50638152, 11.51230394, 10.94245031, 10.36961596, 11.19645086,\n",
       "       11.96339011, 10.98169298, 14.04030134, 13.75076026, 10.18235451,\n",
       "       10.02345097, 10.17524015, 12.57042304, 13.06937558, 10.23696161,\n",
       "       10.44710814, 10.79712035, 10.31722191, 10.61730087, 11.19125918,\n",
       "       10.69385923, 11.25903104, 10.746455  , 10.0014    , 10.50203155,\n",
       "       10.67760257, 10.51563774, 10.43741765, 10.69437657, 10.58910547,\n",
       "       10.09478638, 10.31960341, 12.87310937, 10.02690331, 10.04082063,\n",
       "       10.33287522, 10.87309756, 14.69869029, 14.91199939, 14.97875479,\n",
       "       10.11658812, 11.09207802, 10.74230977, 10.19013187, 12.8640068 ,\n",
       "       10.27688733, 16.8422193 , 10.87393507, 10.20245774, 10.48913821,\n",
       "       10.21031806, 10.52893982, 10.90307857, 11.26084688, 10.66726792,\n",
       "       10.37046939, 10.86142708, 10.58287283, 10.44578426, 10.38762313,\n",
       "       10.23345559, 10.60012803, 10.67696465, 12.29339064, 11.30696746,\n",
       "       11.47006636, 10.47070667, 10.42119752, 11.06431291, 11.24146006,\n",
       "       10.12051654, 10.14274939, 10.60887783, 10.17403942, 13.26078966,\n",
       "       11.81778981, 10.734304  , 10.24624875, 10.14493181, 13.86658825,\n",
       "       11.22773113, 11.96593828, 10.48967199, 10.28879472, 10.35587244,\n",
       "       11.94418034, 10.64052435, 11.08849478, 11.63849917, 10.291664  ,\n",
       "       10.08291806, 11.31961041, 13.25443765, 13.07487796, 10.67432357,\n",
       "       11.00019439, 11.32048797, 12.32697516, 10.17703187, 10.52067619,\n",
       "       10.53972374, 11.18938318, 10.5531196 , 11.95273295, 11.87687615,\n",
       "       10.07278482, 10.35918153, 13.89338189, 10.03627713, 10.67804706,\n",
       "       13.04443635, 11.66375556, 10.3486082 , 10.90691858, 10.56418746,\n",
       "       10.89746285, 12.24198028, 10.80748384, 10.67898101, 10.3845902 ,\n",
       "       10.30566382, 10.78149898, 10.08584608, 11.00960386, 11.59162366,\n",
       "       13.09549748, 11.15399056, 10.67000341, 10.66439319, 13.40198531,\n",
       "       10.23742998, 10.53043011, 14.5722749 , 10.02882329, 11.20840432,\n",
       "       10.02549379, 10.38695998, 10.07637044, 10.06281687, 10.1181152 ,\n",
       "       10.18544913, 10.98801845, 10.57695313, 11.77728729, 10.27416345,\n",
       "       10.2107861 , 11.24444645, 11.95400732, 10.81883714, 11.21881713,\n",
       "       10.92915319, 10.81920323, 11.96893248, 12.5226753 , 11.89450558,\n",
       "       10.29365526, 12.10009776, 10.57116   , 11.30746227, 10.53211867,\n",
       "       10.21175372, 11.22424191, 10.27526985, 11.90598871, 11.73785264,\n",
       "       10.74488644, 10.48831554, 10.8937487 , 10.14794751, 11.65166927,\n",
       "       13.37628475, 11.5132    , 10.27356234, 12.01936606, 11.65085911,\n",
       "       10.06579918, 10.26296124, 10.89083122, 10.147905  , 11.13457332,\n",
       "       14.85243861, 10.33652502, 11.43092677, 10.04764435, 10.40426968,\n",
       "       12.8923239 , 11.01202286, 10.92092296, 12.63365748, 10.2005011 ,\n",
       "       10.01798393, 10.21081014, 10.73787638, 10.68482587, 11.61189696,\n",
       "       11.96209459, 10.23947116, 10.57495328, 10.54751988, 10.05627132])"
      ]
     },
     "execution_count": 5,
     "metadata": {},
     "output_type": "execute_result"
    }
   ],
   "source": [
    "np.random.seed(100)\n",
    "exp_sample=exp.rvs(300)\n",
    "exp_sample"
   ]
  },
  {
   "cell_type": "markdown",
   "id": "638b080a-8dcb-4eed-9680-24aa661bd904",
   "metadata": {},
   "source": [
    "## Parte 3"
   ]
  },
  {
   "cell_type": "code",
   "execution_count": 6,
   "id": "ad9ac565-b7e9-4e23-898a-3a7abda41e33",
   "metadata": {},
   "outputs": [],
   "source": [
    "def bootstrap (data, n_samples=100):\n",
    "    bootstrap_medians=[]\n",
    "    bootstrap_mean=[]\n",
    "    bootstrap_23=[]\n",
    "    \n",
    "    for i in range(n_samples):\n",
    "        bootstrap_sample=np.random.choice(data,size=len(data),replace=True)\n",
    "        bootstrap_medians.append(np.median(bootstrap_sample))\n",
    "        bootstrap_mean.append(np.mean(bootstrap_sample))\n",
    "        bootstrap_23.append(np.percentile(bootstrap_sample,23))\n",
    "\n",
    "    fig, ax=plt.subplots(1, figsize=(15,4))\n",
    "    ax.hist(bootstrap_medians, bins=25, density=True, color='black',alpha=0.4,\n",
    "            label=\"medianas\")\n",
    "    ax.hist(bootstrap_mean, bins=25, density=True, color='blue',alpha=0.75,\n",
    "            label=\"medias\")\n",
    "    ax.hist(bootstrap_23, bins=25, density=True, color='orange',alpha=0.55,\n",
    "            label=\"Percentil_23\")\n",
    "    ax.legend()\n",
    "    return bootstrap_medians,bootstrap_mean,bootstrap_23\n"
   ]
  },
  {
   "cell_type": "code",
   "execution_count": 8,
   "id": "4c13cace-f0df-4b2a-9d92-78ccd13e1f3b",
   "metadata": {},
   "outputs": [
    {
     "data": {
      "image/png": "[encoded data removed]",
      "text/plain": [
       "<Figure size 1080x288 with 1 Axes>"
      ]
     },
     "metadata": {
      "needs_background": "light"
     },
     "output_type": "display_data"
    }
   ],
   "source": [
    "dado_median, dado_mean, dado_23=bootstrap(dado_sample, n_samples=500)"
   ]
  },
  {
   "cell_type": "code",
   "execution_count": 9,
   "id": "7102db17-9473-4dc0-8b05-ac00a747ce42",
   "metadata": {},
   "outputs": [
    {
     "data": {
      "image/png": "[encoded data removed]",
      "text/plain": [
       "<Figure size 1080x288 with 1 Axes>"
      ]
     },
     "metadata": {
      "needs_background": "light"
     },
     "output_type": "display_data"
    }
   ],
   "source": [
    "exp_median, exp_mean, exp_23=bootstrap(exp_sample, n_samples=500)"
   ]
  },
  {
   "cell_type": "code",
   "execution_count": 11,
   "id": "90534b07-1d70-4b86-ad48-3e5d8454ed7d",
   "metadata": {},
   "outputs": [
    {
     "data": {
      "image/png": "[encoded data removed]",
      "text/plain": [
       "<Figure size 1080x288 with 1 Axes>"
      ]
     },
     "metadata": {
      "needs_background": "light"
     },
     "output_type": "display_data"
    }
   ],
   "source": [
    "binom_median, binom_mean, binom_23=bootstrap(binom_sample,n_samples=500)"
   ]
  },
  {
   "cell_type": "code",
   "execution_count": 12,
   "id": "70f01103-e1a5-48bf-9d41-a7626a305616",
   "metadata": {},
   "outputs": [
    {
     "name": "stdout",
     "output_type": "stream",
     "text": [
      "Media: 17.45\n"
     ]
    }
   ],
   "source": [
    "#Media binomial\n",
    "izq=np.percentile(binom_mean, 2.5)#--> IC=97.5 der\n",
    "der=np.percentile(binom_mean, 97.5)\n",
    "\n",
    "print(\"Media: {:2.2f}\".format(np.mean(binom_sample)))"
   ]
  },
  {
   "cell_type": "code",
   "execution_count": 13,
   "id": "5a70714c-10e5-42d6-9470-75e9dcc6065f",
   "metadata": {},
   "outputs": [
    {
     "name": "stdout",
     "output_type": "stream",
     "text": [
      "IC Bootstrap: [17.18,17.69]\n"
     ]
    }
   ],
   "source": [
    "print(\"IC Bootstrap: [{:2.2f},{:2.2f}]\".format(izq,der))"
   ]
  },
  {
   "cell_type": "markdown",
   "id": "9e40bbac-03bd-4455-82a4-f72b95ec90ad",
   "metadata": {},
   "source": [
    "## Parte 4"
   ]
  },
  {
   "cell_type": "code",
   "execution_count": 14,
   "id": "cc71cdf2-1d57-478f-9886-a3ff7d7ed218",
   "metadata": {},
   "outputs": [],
   "source": [
    "doc= open(\"productivity.txt\",\"r\")"
   ]
  },
  {
   "cell_type": "code",
   "execution_count": 15,
   "id": "0962b143-a300-4b3e-a59b-355ff4c9e5e3",
   "metadata": {},
   "outputs": [
    {
     "data": {
      "text/plain": [
       "['-1.910000000000000142e+01\\n',\n",
       " '-1.519999999999999929e+01\\n',\n",
       " '-1.240000000000000036e+01\\n',\n",
       " '-1.539999999999999858e+01\\n',\n",
       " '-8.699999999999999289e+00\\n',\n",
       " '-6.699999999999999289e+00\\n',\n",
       " '-5.899999999999999467e+00\\n',\n",
       " '-3.500000000000000000e+00\\n',\n",
       " '-3.099999999999999645e+00\\n',\n",
       " '-2.099999999999999645e+00\\n',\n",
       " '4.200000000000001066e+00\\n',\n",
       " '6.099999999999999645e+00\\n',\n",
       " '7.000000000000001776e+00\\n',\n",
       " '9.099999999999999645e+00\\n',\n",
       " '1.000000000000000178e+01\\n',\n",
       " '1.029999999999999893e+01\\n',\n",
       " '1.320000000000000107e+01\\n',\n",
       " '1.009999999999999964e+01\\n',\n",
       " '1.409999999999999964e+01\\n',\n",
       " '1.440000000000000036e+01\\n',\n",
       " '2.010000000000000142e+01\\n',\n",
       " '2.629999999999999716e+01\\n',\n",
       " '2.769999999999999574e+01\\n',\n",
       " '2.219999999999999574e+01\\n',\n",
       " '2.339999999999999858e+01\\n']"
      ]
     },
     "execution_count": 15,
     "metadata": {},
     "output_type": "execute_result"
    }
   ],
   "source": [
    "sample=doc.readlines()\n",
    "sample"
   ]
  },
  {
   "cell_type": "code",
   "execution_count": 16,
   "id": "489382db-0806-404b-8bc3-cf7ba4ecb741",
   "metadata": {},
   "outputs": [],
   "source": [
    "sample_values= np.array(sample).astype(np.float)"
   ]
  },
  {
   "cell_type": "code",
   "execution_count": 17,
   "id": "376b913d-e732-4103-bc0d-35d15f212fce",
   "metadata": {},
   "outputs": [],
   "source": [
    "def bootstrap_ci(sample_values,stat_function=np.mean,resamples=10000, ci=95):\n",
    "    statistics= np.zeros(resamples)\n",
    "    for i in range(resamples):\n",
    "        bootstrap=np.random.choice(sample_values,len(sample_values),replace=True)\n",
    "        statistic=stat_function(bootstrap)\n",
    "        statistics[i]=statistic\n",
    "    lower_bound=(100-ci)/2\n",
    "    return np.percentile(statistics,lower_bound), stat_function(sample_values), np.percentile(statistics,100-lower_bound),statistics"
   ]
  },
  {
   "cell_type": "code",
   "execution_count": 18,
   "id": "9aed4dde-297e-47f3-9ee7-3491176e7678",
   "metadata": {},
   "outputs": [],
   "source": [
    "lower, estimate, upper, bootstraps=bootstrap_ci(sample_values)"
   ]
  },
  {
   "cell_type": "code",
   "execution_count": 20,
   "id": "de778d91-5279-42d5-b697-8c477dbce69d",
   "metadata": {},
   "outputs": [
    {
     "data": {
      "text/plain": [
       "(-0.25609999999999966, 5.044, 10.328)"
      ]
     },
     "execution_count": 20,
     "metadata": {},
     "output_type": "execute_result"
    }
   ],
   "source": [
    "lower, estimate, upper"
   ]
  },
  {
   "cell_type": "code",
   "execution_count": 23,
   "id": "7861c92e-0e46-4190-9543-6368a3de6644",
   "metadata": {},
   "outputs": [
    {
     "data": {
      "text/plain": [
       "(array([  16.,   79.,  447., 1349., 2500., 2838., 1850.,  718.,  182.,\n",
       "          21.]),\n",
       " array([-5.168, -3.202, -1.236,  0.73 ,  2.696,  4.662,  6.628,  8.594,\n",
       "        10.56 , 12.526, 14.492]),\n",
       " <BarContainer object of 10 artists>)"
      ]
     },
     "execution_count": 23,
     "metadata": {},
     "output_type": "execute_result"
    },
    {
     "data": {
      "image/png": "[encoded data removed]",
      "text/plain": [
       "<Figure size 432x288 with 1 Axes>"
      ]
     },
     "metadata": {
      "needs_background": "light"
     },
     "output_type": "display_data"
    }
   ],
   "source": [
    "plt.hist(bootstraps)"
   ]
  },
  {
   "cell_type": "code",
   "execution_count": 24,
   "id": "d0c77b77-85cb-40c5-aa1b-77c2883a9c12",
   "metadata": {},
   "outputs": [
    {
     "data": {
      "text/plain": [
       "array([ 3.72 ,  8.448, 10.788, ...,  4.816,  7.352,  3.256])"
      ]
     },
     "execution_count": 24,
     "metadata": {},
     "output_type": "execute_result"
    }
   ],
   "source": [
    "bootstraps"
   ]
  },
  {
   "cell_type": "code",
   "execution_count": null,
   "id": "a38d2801-8425-4265-a1f9-38b5ca33dd45",
   "metadata": {},
   "outputs": [],
   "source": []
  }
 ],
 "metadata": {
  "kernelspec": {
   "display_name": "Python 3",
   "language": "python",
   "name": "python3"
  },
  "language_info": {
   "codemirror_mode": {
    "name": "ipython",
    "version": 3
   },
   "file_extension": ".py",
   "mimetype": "text/x-python",
   "name": "python",
   "nbconvert_exporter": "python",
   "pygments_lexer": "ipython3",
   "version": "3.6.13"
  }
 },
 "nbformat": 4,
 "nbformat_minor": 5
}
